{
 "cells": [
  {
   "cell_type": "code",
   "execution_count": 1,
   "metadata": {},
   "outputs": [
    {
     "name": "stdout",
     "output_type": "stream",
     "text": [
      "100 100 4\n",
      "torch.Size([100, 100, 4])\n",
      "MNN(\n",
      "  (gru): GRUCell(100, 100)\n",
      "  (APDReadout): GlobalReadout(\n",
      "    (mlp1): MLP(\n",
      "      (seq): Sequential(\n",
      "        (0): Linear(in_features=100, out_features=100, bias=True)\n",
      "        (1): SELU()\n",
      "        (2): AlphaDropout(p=0.0, inplace=False)\n",
      "        (3): Linear(in_features=100, out_features=100, bias=True)\n",
      "        (4): SELU()\n",
      "        (5): AlphaDropout(p=0.0, inplace=False)\n",
      "        (6): Linear(in_features=100, out_features=100, bias=True)\n",
      "        (7): SELU()\n",
      "        (8): AlphaDropout(p=0.0, inplace=False)\n",
      "        (9): Linear(in_features=100, out_features=100, bias=True)\n",
      "        (10): SELU()\n",
      "        (11): AlphaDropout(p=0.0, inplace=False)\n",
      "        (12): Linear(in_features=100, out_features=100, bias=True)\n",
      "        (13): SELU()\n",
      "        (14): AlphaDropout(p=0.0, inplace=False)\n",
      "      )\n",
      "    )\n",
      "    (mlp2): MLP(\n",
      "      (seq): Sequential(\n",
      "        (0): Linear(in_features=100, out_features=100, bias=True)\n",
      "        (1): SELU()\n",
      "        (2): AlphaDropout(p=0.0, inplace=False)\n",
      "        (3): Linear(in_features=100, out_features=100, bias=True)\n",
      "        (4): SELU()\n",
      "        (5): AlphaDropout(p=0.0, inplace=False)\n",
      "        (6): Linear(in_features=100, out_features=100, bias=True)\n",
      "        (7): SELU()\n",
      "        (8): AlphaDropout(p=0.0, inplace=False)\n",
      "        (9): Linear(in_features=100, out_features=100, bias=True)\n",
      "        (10): SELU()\n",
      "        (11): AlphaDropout(p=0.0, inplace=False)\n",
      "        (12): Linear(in_features=100, out_features=100, bias=True)\n",
      "        (13): SELU()\n",
      "        (14): AlphaDropout(p=0.0, inplace=False)\n",
      "      )\n",
      "    )\n",
      "    (mlp3): MLP(\n",
      "      (seq): Sequential(\n",
      "        (0): Linear(in_features=100, out_features=100, bias=True)\n",
      "        (1): SELU()\n",
      "        (2): AlphaDropout(p=0.0, inplace=False)\n",
      "        (3): Linear(in_features=100, out_features=100, bias=True)\n",
      "        (4): SELU()\n",
      "        (5): AlphaDropout(p=0.0, inplace=False)\n",
      "        (6): Linear(in_features=100, out_features=100, bias=True)\n",
      "        (7): SELU()\n",
      "        (8): AlphaDropout(p=0.0, inplace=False)\n",
      "        (9): Linear(in_features=100, out_features=100, bias=True)\n",
      "        (10): SELU()\n",
      "        (11): AlphaDropout(p=0.0, inplace=False)\n",
      "        (12): Linear(in_features=100, out_features=100, bias=True)\n",
      "        (13): SELU()\n",
      "        (14): AlphaDropout(p=0.0, inplace=False)\n",
      "      )\n",
      "    )\n",
      "    (mlp4): MLP(\n",
      "      (seq): Sequential(\n",
      "        (0): Linear(in_features=200, out_features=100, bias=True)\n",
      "        (1): SELU()\n",
      "        (2): AlphaDropout(p=0.0, inplace=False)\n",
      "        (3): Linear(in_features=100, out_features=100, bias=True)\n",
      "        (4): SELU()\n",
      "        (5): AlphaDropout(p=0.0, inplace=False)\n",
      "        (6): Linear(in_features=100, out_features=100, bias=True)\n",
      "        (7): SELU()\n",
      "        (8): AlphaDropout(p=0.0, inplace=False)\n",
      "        (9): Linear(in_features=100, out_features=100, bias=True)\n",
      "        (10): SELU()\n",
      "        (11): AlphaDropout(p=0.0, inplace=False)\n",
      "        (12): Linear(in_features=100, out_features=100, bias=True)\n",
      "        (13): SELU()\n",
      "        (14): AlphaDropout(p=0.0, inplace=False)\n",
      "      )\n",
      "    )\n",
      "    (mlpt): MLP(\n",
      "      (seq): Sequential(\n",
      "        (0): Linear(in_features=100, out_features=100, bias=True)\n",
      "        (1): SELU()\n",
      "        (2): AlphaDropout(p=0.0, inplace=False)\n",
      "        (3): Linear(in_features=100, out_features=100, bias=True)\n",
      "        (4): SELU()\n",
      "        (5): AlphaDropout(p=0.0, inplace=False)\n",
      "        (6): Linear(in_features=100, out_features=100, bias=True)\n",
      "        (7): SELU()\n",
      "        (8): AlphaDropout(p=0.0, inplace=False)\n",
      "        (9): Linear(in_features=100, out_features=100, bias=True)\n",
      "        (10): SELU()\n",
      "        (11): AlphaDropout(p=0.0, inplace=False)\n",
      "        (12): Linear(in_features=100, out_features=100, bias=True)\n",
      "        (13): SELU()\n",
      "        (14): AlphaDropout(p=0.0, inplace=False)\n",
      "      )\n",
      "    )\n",
      "    (final_l): MLP(\n",
      "      (seq): Sequential(\n",
      "        (0): Linear(in_features=2900, out_features=500, bias=True)\n",
      "        (1): SELU()\n",
      "        (2): AlphaDropout(p=0.0, inplace=False)\n",
      "        (3): Linear(in_features=500, out_features=989, bias=True)\n",
      "        (4): SELU()\n",
      "        (5): AlphaDropout(p=0.0, inplace=False)\n",
      "      )\n",
      "    )\n",
      "  )\n",
      ")\n"
     ]
    }
   ],
   "source": [
    "from mpnn_train import network\n",
    "import torch.optim as optim\n",
    "from torch import nn\n",
    "import torch\n",
    "\n",
    "# hannas stark..spain germany...switerzland....dcn\n",
    "# graph net network in action..........matrix in 3d........brzil\n"
   ]
  },
  {
   "cell_type": "code",
   "execution_count": 2,
   "metadata": {},
   "outputs": [],
   "source": [
    "# network\n",
    "optimizer = optim.Adam(network.parameters(), lr=0.001)\n",
    "criterion = torch.nn.KLDivLoss()"
   ]
  },
  {
   "cell_type": "code",
   "execution_count": null,
   "metadata": {},
   "outputs": [],
   "source": [
    "# data[0][1][0].shape"
   ]
  },
  {
   "cell_type": "code",
   "execution_count": 93,
   "metadata": {},
   "outputs": [
    {
     "data": {
      "text/plain": [
       "(13, 4)"
      ]
     },
     "execution_count": 93,
     "metadata": {},
     "output_type": "execute_result"
    }
   ],
   "source": [
    "adps[1].shape"
   ]
  },
  {
   "cell_type": "code",
   "execution_count": 130,
   "metadata": {},
   "outputs": [],
   "source": [
    "import pickle\n",
    "data = pickle.load(open('data_1000_train.pkl',\"rb\")) #{i:{[node_feat,edge_feat],[adp,edge_feat]}}"
   ]
  },
  {
   "cell_type": "code",
   "execution_count": 132,
   "metadata": {},
   "outputs": [
    {
     "name": "stdout",
     "output_type": "stream",
     "text": [
      "shapes numpy are  torch.Size([1, 13, 6, 3, 1, 4]) torch.Size([1, 13, 6, 3, 1, 4])\n",
      "shapes numpy are  torch.Size([1, 13, 4]) torch.Size([1, 13, 4])\n",
      "shapes are  torch.Size([1, 1, 13, 6, 3, 1, 4]) torch.Size([1, 1, 13, 6, 3, 1, 4])\n",
      "shapes are  torch.Size([1, 1, 13, 4]) torch.Size([1, 1, 13, 4])\n",
      "torch.float64\n",
      "torch.float64\n",
      "torch.float64\n",
      "torch.Size([2, 936])\n",
      "loss is  0.003423399268052517\n",
      "Finished Training\n"
     ]
    },
    {
     "name": "stderr",
     "output_type": "stream",
     "text": [
      "C:\\Users\\ASHISH\\AppData\\Local\\Temp/ipykernel_16180/1844603492.py:24: UserWarning: To copy construct from a tensor, it is recommended to use sourceTensor.clone().detach() or sourceTensor.clone().detach().requires_grad_(True), rather than torch.tensor(sourceTensor).\n",
      "  adps[i] = torch.tensor(adps[i],dtype=torch.float64).unsqueeze(0)\n",
      "C:\\Users\\ASHISH\\AppData\\Local\\Temp/ipykernel_16180/1844603492.py:25: UserWarning: To copy construct from a tensor, it is recommended to use sourceTensor.clone().detach() or sourceTensor.clone().detach().requires_grad_(True), rather than torch.tensor(sourceTensor).\n",
      "  adps1[i] = torch.tensor(adps1[i],dtype=torch.float64).unsqueeze(0)\n",
      "C:\\Users\\ASHISH\\AppData\\Local\\Packages\\PythonSoftwareFoundation.Python.3.9_qbz5n2kfra8p0\\LocalCache\\local-packages\\Python39\\site-packages\\torch\\nn\\functional.py:2747: UserWarning: reduction: 'mean' divides the total loss by both the batch size and the support size.'batchmean' divides only by the batch size, and aligns with the KL div math definition.'mean' will be changed to behave the same as 'batchmean' in the next major release.\n",
      "  warnings.warn(\n"
     ]
    }
   ],
   "source": [
    "# network = MNN(constants)\n",
    "# network = network.cuda()\n",
    "# outputs = network(node_feat,edge_feat)\n",
    "\n",
    "for epoch in range(1):  # loop over the dataset multiple times\n",
    "    running_loss = 0.0\n",
    "    n_data = len(data)\n",
    "    \n",
    "    for i in range(n_data):#this we have to find......\n",
    "        gh,adps = data[i]\n",
    "        gh1,adps1 = data[i+1]\n",
    "        for i in range(len(adps)):\n",
    "            # adps[i] = torch.tensor(adps[i],dtype=torch.float64)\n",
    "            # adps1[i] = torch.tensor(adps1[i],dtype=torch.float64)\n",
    "            print(\"shapes numpy are \",adps1[i].shape,adps[i].shape)\n",
    "        \n",
    "\n",
    "        # get the inputs; data is a list of [inputs, labels]\n",
    "        node_feat,edge_feat = torch.Tensor(gh[0]).unsqueeze(0).cuda(),torch.Tensor(gh[1]).unsqueeze(0).cuda()\n",
    "        node_feat1,edge_feat1 = torch.Tensor(gh1[0]).unsqueeze(0).cuda(),torch.Tensor(gh1[1]).unsqueeze(0).cuda()\n",
    "        node_feat,edge_feat =  torch.cat([node_feat,node_feat1]),torch.cat([edge_feat,edge_feat1])\n",
    "\n",
    "        for i in range(len(adps)):\n",
    "            adps[i] = torch.tensor(adps[i],dtype=torch.float64).unsqueeze(0)\n",
    "            adps1[i] = torch.tensor(adps1[i],dtype=torch.float64).unsqueeze(0)\n",
    "            print(\"shapes are \",adps1[i].shape,adps[i].shape)\n",
    "        \n",
    "        \n",
    "\n",
    "        adps_add,adps_conn =  torch.cat([adps[0],adps1[0]]),torch.cat([adps[1],adps1[1]])\n",
    "\n",
    "        # zero the parameter gradients\n",
    "        optimizer.zero_grad()\n",
    "\n",
    "        # forward + backward + optimize\n",
    "        outputs = network(node_feat,edge_feat)  #now we have 3 outputs 1 for fterm \n",
    "        for i,vars in enumerate(outputs):\n",
    "            outputs[i] = outputs[i].double()\n",
    "        for i in outputs:\n",
    "            print(i.dtype)\n",
    "        print(outputs[0].shape) #adp,edge_conn,term\n",
    "        label_term = torch.zeros((2,1),dtype=torch.double).cuda()\n",
    "\n",
    "        \n",
    "        dp  =torch.flatten(adps_add,start_dim=1).cuda()\n",
    "        dp_conn  =torch.flatten(adps_conn,start_dim=1).cuda()\n",
    "        # print(\"chec \",dp.shape)\n",
    "        loss_adp = criterion(outputs[0],dp)\n",
    "        # print(adps[0].dtype,label_term.dtype,adps[1].dtype)\n",
    "                #break\n",
    "        loss_conn = criterion(outputs[1],dp_conn)\n",
    "        loss_term = criterion(outputs[2],label_term)\n",
    "        loss = loss_adp+loss_conn+loss_term\n",
    "\n",
    "        loss.backward()\n",
    "        optimizer.step()\n",
    "\n",
    "        # print statistics\n",
    "        running_loss += loss.item()\n",
    "        print(\"loss is \",running_loss)\n",
    "        # break\n",
    "        # if i % 2000 == 1999:    # print every 2000 mini-batches\n",
    "        #     print('[%d, %5d] loss: %.3f' %\n",
    "        #           (epoch + 1, i + 1, running_loss / 2000))\n",
    "        #     running_loss = 0.0\n",
    "\n",
    "print('Finished Training')"
   ]
  },
  {
   "cell_type": "code",
   "execution_count": null,
   "metadata": {},
   "outputs": [],
   "source": [
    "import torch\n",
    "from collections import namedtuple"
   ]
  },
  {
   "cell_type": "code",
   "execution_count": 5,
   "metadata": {},
   "outputs": [],
   "source": []
  },
  {
   "cell_type": "code",
   "execution_count": 6,
   "metadata": {},
   "outputs": [],
   "source": [
    "hyperparameters = {\n",
    "        \"mlp1_depth\"          : 4,\n",
    "        \"mlp1_dropout_p\"      : 0.0,\n",
    "        \"mlp1_hidden_dim\"     : 100,\n",
    "        \"mlp2_depth\"          : 4,\n",
    "        \"mlp2_dropout_p\"      : 0.0,\n",
    "        \"mlp2_hidden_dim\"     : 100,\n",
    "        \"hidden_node_features\": 100,\n",
    "        \"message_passes\"      : 3,\n",
    "        \"message_size\"        : 100,\n",
    "        \"n_edge_features\"     :4,\n",
    "        \"device\"              :'cuda'\n",
    "    }\n",
    "import json\n",
    "class dotdict(dict):\n",
    "    \"\"\"dot.notation access to dictionary attributes\"\"\"\n",
    "    __getattr__ = dict.get\n",
    "    __setattr__ = dict.__setitem__\n",
    "    __delattr__ = dict.__delitem__\n",
    "constants = dotdict(hyperparameters)\n"
   ]
  },
  {
   "cell_type": "code",
   "execution_count": 76,
   "metadata": {},
   "outputs": [
    {
     "data": {
      "text/plain": [
       "4"
      ]
     },
     "execution_count": 76,
     "metadata": {},
     "output_type": "execute_result"
    }
   ],
   "source": [
    "constants.n_edge_features"
   ]
  },
  {
   "cell_type": "code",
   "execution_count": 6,
   "metadata": {},
   "outputs": [
    {
     "name": "stdout",
     "output_type": "stream",
     "text": [
      "True\n",
      "<rdkit.Chem.rdmolfiles.SmilesMolSupplier object at 0x000002A58F88D5E0>\n",
      "<ashishcode.MolecularGraph object at 0x000002A58F442E20>\n"
     ]
    }
   ],
   "source": [
    "from DataPrepsF import load_molecule,MolecularGraph,params\n",
    "path = \"data\\pre-training\\gdb13_1K\\Train.smi\"\n",
    "molecule_set = load_molecule(path)\n",
    "print(molecule_set)\n",
    "for mol in molecule_set:\n",
    "    molecule = MolecularGraph(mol)\n",
    "    print(molecule)\n",
    "    break\n",
    "\n",
    "\n"
   ]
  },
  {
   "cell_type": "code",
   "execution_count": 85,
   "metadata": {},
   "outputs": [],
   "source": [
    "from collections import namedtuple\n",
    "class SummationMPNN(torch.nn.Module):\n",
    "    \"\"\"\n",
    "    Abstract `SummationMPNN` class. Specific models using this class are\n",
    "    defined in `mpnn.py`; these are MNN, S2V, and GGNN.\n",
    "    \"\"\"\n",
    "    def __init__(self, constants : namedtuple):\n",
    "\n",
    "        super().__init__()\n",
    "\n",
    "        self.hidden_node_features = constants.hidden_node_features\n",
    "        self.edge_features        = constants.n_edge_features\n",
    "        self.message_size         = constants.message_size\n",
    "        self.message_passes       = constants.message_passes\n",
    "        self.constants            = constants\n",
    "\n",
    "    def forward(self, nodes : torch.Tensor, edges : torch.Tensor) -> None:\n",
    "        adjacency = torch.sum(edges, dim=3)\n",
    "\n",
    "        # **note: \"idc\" == \"indices\", \"nghb{s}\" == \"neighbour(s)\"\n",
    "        (edge_batch_batch_idc,\n",
    "         edge_batch_node_idc,\n",
    "         edge_batch_nghb_idc) = adjacency.nonzero(as_tuple=True)\n",
    "        #print(\"sizes are edge_batch_node_idc \",edge_batch_node_idc)\n",
    "\n",
    "        (node_batch_batch_idc, node_batch_node_idc) = adjacency.sum(-1).nonzero(as_tuple=True)\n",
    "\n",
    "        same_batch = node_batch_batch_idc.view(-1, 1) == edge_batch_batch_idc\n",
    "        same_node  = node_batch_node_idc.view(-1, 1) == edge_batch_node_idc\n",
    "\n",
    "        # element ij of `message_summation_matrix` is 1 if `edge_batch_edges[j]`\n",
    "        # is connected with `node_batch_nodes[i]`, else 0\n",
    "        message_summation_matrix = (same_batch * same_node).float()\n",
    "\n",
    "        edge_batch_edges = edges[edge_batch_batch_idc, edge_batch_node_idc, edge_batch_nghb_idc, :]\n",
    "\n",
    "        # pad up the hidden nodes\n",
    "        hidden_nodes = torch.zeros(nodes.shape[0],\n",
    "                                   nodes.shape[1],\n",
    "                                   self.hidden_node_features,\n",
    "                                   device=self.constants.device)\n",
    "        hidden_nodes[:nodes.shape[0], :nodes.shape[1], :nodes.shape[2]] = nodes.clone()\n",
    "        node_batch_nodes = hidden_nodes[node_batch_batch_idc, node_batch_node_idc, :]\n",
    "        \n",
    "\n",
    "        for _ in range(self.message_passes):\n",
    "            edge_batch_nodes = hidden_nodes[edge_batch_batch_idc, edge_batch_node_idc, :]\n",
    "\n",
    "            edge_batch_nghbs = hidden_nodes[edge_batch_batch_idc, edge_batch_nghb_idc, :]\n",
    "\n",
    "            #print(\"hello ji \",edge_batch_nghbs.shape,edge_batch_nodes.shape,hidden_nodes.shape)\n",
    "\n",
    "            message_terms = self.message_terms(edge_batch_nodes,\n",
    "                                                  edge_batch_nghbs,\n",
    "                                                  edge_batch_edges)\n",
    "\n",
    "            if len(message_terms.size()) == 1:  # if a single graph in batch\n",
    "                message_terms = message_terms.unsqueeze(0)\n",
    "\n",
    "            # the summation in eq. 1 of the NMPQC paper happens here\n",
    "            messages = torch.matmul(message_summation_matrix, message_terms)\n",
    "\n",
    "            node_batch_nodes = self.update(node_batch_nodes, messages)\n",
    "            hidden_nodes[node_batch_batch_idc, node_batch_node_idc, :] = node_batch_nodes.clone() #updated the hidden states\n",
    "\n",
    "        node_mask = adjacency.sum(-1) != 0\n",
    "        output    = self.readout(hidden_nodes, nodes, node_mask)\n",
    "\n",
    "        return output\n"
   ]
  },
  {
   "cell_type": "code",
   "execution_count": 86,
   "metadata": {},
   "outputs": [],
   "source": [
    "# from graphinvent.gnn.modules import GlobalReadout \n",
    "class MNN(SummationMPNN):\n",
    "    def __init__(self,constants) -> None:\n",
    "        super().__init__(constants)\n",
    "        self.constants       = constants\n",
    "        #print(self.constants.message_size,self.constants.hidden_node_features,4)\n",
    "        self.message_weights      = torch.Tensor(self.constants.message_size,\n",
    "                                            self.constants.hidden_node_features,\n",
    "                                            4)#edge features\n",
    "        #print(message_weights.shape)\n",
    "        if self.constants.device == \"cuda\":\n",
    "            self.message_weights = self.message_weights.to(\"cuda\", non_blocking=True)\n",
    "        \n",
    "    \n",
    "        self.message_weights = torch.nn.Parameter(self.message_weights)\n",
    "\n",
    "        self.gru             = torch.nn.GRUCell(\n",
    "            input_size=self.constants.message_size,\n",
    "            hidden_size=self.constants.hidden_node_features,\n",
    "            bias=True\n",
    "        )\n",
    "        \n",
    "        self.APDReadout = GlobalReadout()\n",
    "\n",
    "        self.reset_parameters()\n",
    "\n",
    "    def reset_parameters(self) -> None:\n",
    "        import math\n",
    "        stdev = 1.0 / math.sqrt(self.message_weights.size(1))\n",
    "        self.message_weights.data.uniform_(-stdev, stdev)\n",
    "\n",
    "    def message_terms(self, nodes : torch.Tensor, node_neighbours : torch.Tensor,\n",
    "                        edges : torch.Tensor) -> torch.Tensor:\n",
    "        \n",
    "        edges_view            = edges.view(-1, 1, 1, self.constants.n_edge_features)\n",
    "        #print(\"edges \",edges_view.shape)\n",
    "        weights_for_each_edge = (edges_view * self.message_weights.unsqueeze(0)).sum(3)\n",
    "        # print(\"cudas are \",weights_for_each_edge.is_cuda,node_neighbours.is_cuda)\n",
    "        return torch.matmul(weights_for_each_edge,\n",
    "                            node_neighbours.unsqueeze(-1)).squeeze()\n",
    "    #torch.broadcast_to(x, (3, 3))\n",
    "    def update(self, nodes : torch.Tensor, messages : torch.Tensor) -> torch.Tensor:\n",
    "        return self.gru(messages, nodes)\n",
    "\n",
    "    def readout(self, hidden_nodes : torch.Tensor, input_nodes : torch.Tensor,\n",
    "                node_mask : torch.Tensor) -> torch.Tensor:\n",
    "        # graph_embeddings = torch.sum(hidden_nodes, dim=1)\n",
    "        #print(\"input to network \",hidden_nodes.shape)\n",
    "        output           = self.APDReadout(hidden_nodes)\n",
    "        return output\n",
    "\n"
   ]
  },
  {
   "cell_type": "code",
   "execution_count": null,
   "metadata": {},
   "outputs": [],
   "source": []
  },
  {
   "cell_type": "code",
   "execution_count": null,
   "metadata": {},
   "outputs": [],
   "source": []
  },
  {
   "cell_type": "code",
   "execution_count": 83,
   "metadata": {},
   "outputs": [],
   "source": [
    "class GlobalReadout(torch.nn.Module):\n",
    "    def __init__(self):\n",
    "        super().__init__()\n",
    "        self.mlp1 = MLP(in_features=constants.message_size,\n",
    "                  hidden_layer_sizes=[constants.mlp1_hidden_dim]*constants.mlp1_depth,\n",
    "                  out_features=constants.message_size,\n",
    "                  dropout_p=0.0)\n",
    "        self.mlp2 = MLP(in_features=constants.message_size,\n",
    "                  hidden_layer_sizes=[constants.mlp2_hidden_dim]*constants.mlp2_depth,\n",
    "                  out_features=constants.message_size,\n",
    "                  dropout_p=0.0)\n",
    "        \n",
    "        self.mlp3 = MLP(in_features=(13+1)*constants.message_size,#max nodes+\n",
    "                  hidden_layer_sizes=[constants.mlp1_hidden_dim]*constants.mlp1_depth,\n",
    "                  out_features=13*6*3*1*4,\n",
    "                  dropout_p=0.0)\n",
    "        self.mlp4 = MLP(in_features=(13+1)*constants.message_size,\n",
    "                  hidden_layer_sizes=[constants.mlp2_hidden_dim]*constants.mlp2_depth,\n",
    "                  out_features=13*4,\n",
    "                  dropout_p=0.0)\n",
    "        self.mlpt = MLP(in_features=constants.message_size,\n",
    "                  hidden_layer_sizes=[constants.mlp1_hidden_dim]*constants.mlp1_depth,\n",
    "                  out_features=1,\n",
    "                  dropout_p=0.0)\n",
    "        # self.final_l = MLP(in_features=2900,#23*100 #(14+14+1)100\n",
    "        #           hidden_layer_sizes=[500]*1,\n",
    "        #           out_features=989,\n",
    "        #           dropout_p=0.0)\n",
    "          \n",
    "    def forward(self,features):\n",
    "        g= torch.sum(features,dim=1)\n",
    "        g = g.view(g.shape[0],1,100)\n",
    "        \n",
    "        #print(\"feat are \",features.shape)\n",
    "        fadd1 = self.mlp1(features)\n",
    "        fconn1 = self.mlp2(features) \n",
    "        fadd1g = torch.flatten(torch.cat([fadd1,g],dim=1),start_dim=1)\n",
    "        fconn1g = torch.flatten(torch.cat([fconn1,g],dim=1),start_dim=1)\n",
    "        fadd = self.mlp3(fadd1g)#.unsqueeze(dim=1)\n",
    "        #print(fadd.shape)\n",
    "\n",
    "        fconn = self.mlp4(fconn1g)#.unsqueeze(dim=1)\n",
    "        fterm = self.mlpt(g)\n",
    "        #print(\"global readout shapes \",fadd.shape,fconn.shape,fterm.shape)\n",
    "        #cat = torch.cat((fadd.squeeze(dim=0), fconn.squeeze(dim=0), fterm), dim=2)\n",
    "        cat = [fadd,fconn,fterm.squeeze(1)]\n",
    "        return cat\n",
    "        #apd = self.Softmax()....from original code its removed\n"
   ]
  },
  {
   "cell_type": "code",
   "execution_count": 75,
   "metadata": {},
   "outputs": [
    {
     "name": "stdout",
     "output_type": "stream",
     "text": [
      "torch.Size([1, 936])\n",
      "torch.Size([1, 52])\n",
      "torch.Size([1, 1])\n"
     ]
    }
   ],
   "source": [
    "network = MNN(constants)\n",
    "network = network.cuda()\n",
    "outputs = network(node_feat,edge_feat)\n"
   ]
  },
  {
   "cell_type": "code",
   "execution_count": 39,
   "metadata": {},
   "outputs": [
    {
     "data": {
      "text/plain": [
       "torch.Size([989])"
      ]
     },
     "execution_count": 39,
     "metadata": {},
     "output_type": "execute_result"
    }
   ],
   "source": [
    "outputs.shape"
   ]
  },
  {
   "cell_type": "code",
   "execution_count": 84,
   "metadata": {},
   "outputs": [],
   "source": [
    "\n",
    "class MLP(torch.nn.Module):\n",
    "    def __init__(self, in_features : int, hidden_layer_sizes : list, out_features : int,\n",
    "                 dropout_p : float) -> None:\n",
    "        super().__init__()\n",
    "\n",
    "        activation_function = torch.nn.SELU\n",
    "        # create list of all layer feature sizes\n",
    "        fs = [in_features, *hidden_layer_sizes, out_features]\n",
    "        # create list of linear_blocks\n",
    "        layers = [self._linear_block(in_f, out_f,\n",
    "                                     activation_function,\n",
    "                                     dropout_p)\n",
    "                  for in_f, out_f in zip(fs, fs[1:])]\n",
    "        # concatenate modules in all sequentials in layers list\n",
    "        layers = [module for sq in layers for module in sq.children()]\n",
    "\n",
    "        # add modules to sequential container\n",
    "        self.seq = torch.nn.Sequential(*layers)\n",
    "\n",
    "    def _linear_block(self, in_f : int, out_f : int, activation : torch.nn.Module,\n",
    "                      dropout_p : float) -> torch.nn.Sequential:\n",
    "        \n",
    "        # bias must be used in most MLPs in our models to learn from empty graphs\n",
    "        linear = torch.nn.Linear(in_f, out_f, bias=True)\n",
    "        torch.nn.init.xavier_uniform_(linear.weight)\n",
    "        return torch.nn.Sequential(linear, activation(), torch.nn.AlphaDropout(dropout_p))\n",
    "\n",
    "    def forward(self, layers_input : torch.nn.Sequential) -> torch.nn.Sequential:\n",
    "        return self.seq(layers_input)\n"
   ]
  },
  {
   "cell_type": "code",
   "execution_count": 47,
   "metadata": {},
   "outputs": [],
   "source": [
    "linear = torch.nn.Linear(100,1000, bias=True)\n"
   ]
  },
  {
   "cell_type": "code",
   "execution_count": 50,
   "metadata": {},
   "outputs": [],
   "source": [
    "ip = torch.zeros((10,100))"
   ]
  },
  {
   "cell_type": "code",
   "execution_count": 51,
   "metadata": {},
   "outputs": [
    {
     "data": {
      "text/plain": [
       "(10, 10, 4)"
      ]
     },
     "execution_count": 51,
     "metadata": {},
     "output_type": "execute_result"
    }
   ],
   "source": [
    "node.shape\n",
    "edge.shape"
   ]
  },
  {
   "cell_type": "code",
   "execution_count": 52,
   "metadata": {},
   "outputs": [
    {
     "data": {
      "text/plain": [
       "torch.Size([10, 1000])"
      ]
     },
     "execution_count": 52,
     "metadata": {},
     "output_type": "execute_result"
    }
   ],
   "source": [
    "linear(ip).shape"
   ]
  },
  {
   "cell_type": "code",
   "execution_count": null,
   "metadata": {},
   "outputs": [],
   "source": []
  }
 ],
 "metadata": {
  "interpreter": {
   "hash": "5a7aeb117152383494077b830ed8f2bcff9728640e9e954d18ee6388f442a456"
  },
  "kernelspec": {
   "display_name": "Python 3.9.9 64-bit (windows store)",
   "language": "python",
   "name": "python3"
  },
  "language_info": {
   "codemirror_mode": {
    "name": "ipython",
    "version": 3
   },
   "file_extension": ".py",
   "mimetype": "text/x-python",
   "name": "python",
   "nbconvert_exporter": "python",
   "pygments_lexer": "ipython3",
   "version": "3.9.9"
  },
  "orig_nbformat": 4
 },
 "nbformat": 4,
 "nbformat_minor": 2
}
