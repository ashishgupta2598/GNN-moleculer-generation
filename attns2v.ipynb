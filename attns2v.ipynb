{
 "cells": [
  {
   "cell_type": "code",
   "execution_count": 1,
   "metadata": {},
   "outputs": [],
   "source": [
    "import torch \n",
    "\n",
    "\n"
   ]
  },
  {
   "cell_type": "code",
   "execution_count": null,
   "metadata": {},
   "outputs": [],
   "source": [
    "edges = torch.tensor(([[[0,1,0,0],\n",
    "                        [1,0,1,0],\n",
    "                        [0,1,0,1],\n",
    "                        [0,0,1,0]]]))\n",
    "nodes = torch.tensor(([[[0,0,0,1,1],\n",
    "                        [0,0,1,1,0],\n",
    "                        [0,1,0,0,1],\n",
    "                        [1,0,0,0,1\n",
    "                        ]]]))\n",
    "edges.shape,nodes.shape\n",
    "edges = edges.view(1,4,4,1)\n",
    "#single graph with multiple nodes and edges"
   ]
  }
 ],
 "metadata": {
  "interpreter": {
   "hash": "5a7aeb117152383494077b830ed8f2bcff9728640e9e954d18ee6388f442a456"
  },
  "kernelspec": {
   "display_name": "Python 3.9.9 64-bit (windows store)",
   "language": "python",
   "name": "python3"
  },
  "language_info": {
   "codemirror_mode": {
    "name": "ipython",
    "version": 3
   },
   "file_extension": ".py",
   "mimetype": "text/x-python",
   "name": "python",
   "nbconvert_exporter": "python",
   "pygments_lexer": "ipython3",
   "version": "3.9.9"
  },
  "orig_nbformat": 4
 },
 "nbformat": 4,
 "nbformat_minor": 2
}
