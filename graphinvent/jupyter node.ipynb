{
 "cells": [
  {
   "cell_type": "code",
   "execution_count": 2,
   "metadata": {},
   "outputs": [],
   "source": [
    "import torch"
   ]
  },
  {
   "cell_type": "markdown",
   "metadata": {},
   "source": []
  },
  {
   "cell_type": "code",
   "execution_count": 3,
   "metadata": {},
   "outputs": [
    {
     "data": {
      "text/plain": [
       "True"
      ]
     },
     "execution_count": 3,
     "metadata": {},
     "output_type": "execute_result"
    }
   ],
   "source": [
    "torch.cuda.is_available()"
   ]
  },
  {
   "cell_type": "code",
   "execution_count": 100,
   "metadata": {},
   "outputs": [],
   "source": [
    "DATASET          = \"gdb13_1K-debug\"    # dataset name in \"./data/pre-training/\"\n",
    "JOB_TYPE         = \"train\"             # \"preprocess\", \"train\", \"generate\", or \"test\"\n",
    "DATA_PATH        = \"./data/pre-training/\"\n",
    "\n",
    "params = {\n",
    "    \"atom_types\"   : [\"C\", \"N\", \"O\", \"S\", \"Cl\"],\n",
    "    \"formal_charge\": [-1, 0, +1],\n",
    "    \"max_n_nodes\"  : 13,\n",
    "    \"job_type\"     : JOB_TYPE,\n",
    "    \"dataset_dir\"  : f\"{DATA_PATH}{DATASET}/\",\n",
    "    \"restart\"      : 1,\n",
    "    \"model\"        : \"GGNN\",\n",
    "    \"sample_every\" : 2,\n",
    "    \"init_lr\"      : 1e-4,\n",
    "    \"epochs\"       : 100,\n",
    "    \"batch_size\"   : 50,\n",
    "    \"block_size\"   : 1000,\n",
    "    \"device\"       : 'cuda',\n",
    "    \"n_samples\"    : 100,\n",
    "    # additional paramaters can be defined here, if different from the \"defaults\"\n",
    "    # for instance, for \"generate\" jobs, don't forget to specify \"generation_epoch\"\n",
    "    # and \"n_samples\"\n",
    "}"
   ]
  },
  {
   "cell_type": "code",
   "execution_count": 5,
   "metadata": {},
   "outputs": [],
   "source": [
    "max_nodes=13\n",
    "n_node_features=1288#check/calculate them\n",
    "n_edge_features = 1289#calculate them\n",
    "dim_nodes = [max_nodes, n_node_features]\n",
    "dim_edges = [max_nodes, max_nodes, n_edge_features]\n",
    "path = 'E:\\graph gnn\\GraphINVENT\\data\\pre-training\\gdb13_1K\\train.h5'\n",
    "path            = path\n",
    "is_training_set = True\n",
    "dataset_names   = [\"nodes\", \"edges\", \"APDs\"]\n",
    " # creates `self.dims`"
   ]
  },
  {
   "cell_type": "code",
   "execution_count": 7,
   "metadata": {},
   "outputs": [],
   "source": [
    "import rdkit\n",
    "from rdkit.Chem.rdmolfiles import SmilesMolSupplier\n"
   ]
  },
  {
   "cell_type": "code",
   "execution_count": 14,
   "metadata": {},
   "outputs": [
    {
     "ename": "OSError",
     "evalue": "[Errno 22] Invalid argument: 'E:\\\\graph gnn\\\\GraphINVENT\\\\data\\\\pre-training\\\\gdb13_1K\\train.smi'",
     "output_type": "error",
     "traceback": [
      "\u001b[1;31m---------------------------------------------------------------------------\u001b[0m",
      "\u001b[1;31mOSError\u001b[0m                                   Traceback (most recent call last)",
      "\u001b[1;32m~\\AppData\\Local\\Temp/ipykernel_24032/1608808110.py\u001b[0m in \u001b[0;36m<module>\u001b[1;34m\u001b[0m\n\u001b[1;32m----> 1\u001b[1;33m \u001b[1;32mwith\u001b[0m \u001b[0mopen\u001b[0m\u001b[1;33m(\u001b[0m\u001b[0mpath1\u001b[0m\u001b[1;33m)\u001b[0m \u001b[1;32mas\u001b[0m \u001b[0msmi_file\u001b[0m\u001b[1;33m:\u001b[0m\u001b[1;33m\u001b[0m\u001b[1;33m\u001b[0m\u001b[0m\n\u001b[0m\u001b[0;32m      2\u001b[0m         \u001b[0mfirst_line\u001b[0m \u001b[1;33m=\u001b[0m \u001b[0msmi_file\u001b[0m\u001b[1;33m.\u001b[0m\u001b[0mreadline\u001b[0m\u001b[1;33m(\u001b[0m\u001b[1;33m)\u001b[0m\u001b[1;33m\u001b[0m\u001b[1;33m\u001b[0m\u001b[0m\n\u001b[0;32m      3\u001b[0m         \u001b[0mhas_header\u001b[0m \u001b[1;33m=\u001b[0m \u001b[0mbool\u001b[0m\u001b[1;33m(\u001b[0m\u001b[1;34m\"SMILES\"\u001b[0m \u001b[1;32min\u001b[0m \u001b[0mfirst_line\u001b[0m\u001b[1;33m)\u001b[0m\u001b[1;33m\u001b[0m\u001b[1;33m\u001b[0m\u001b[0m\n\u001b[0;32m      4\u001b[0m \u001b[0msmi_file\u001b[0m\u001b[1;33m.\u001b[0m\u001b[0mclose\u001b[0m\u001b[1;33m(\u001b[0m\u001b[1;33m)\u001b[0m\u001b[1;33m\u001b[0m\u001b[1;33m\u001b[0m\u001b[0m\n",
      "\u001b[1;31mOSError\u001b[0m: [Errno 22] Invalid argument: 'E:\\\\graph gnn\\\\GraphINVENT\\\\data\\\\pre-training\\\\gdb13_1K\\train.smi'"
     ]
    }
   ],
   "source": [
    "with open(path1) as smi_file:\n",
    "        first_line = smi_file.readline()\n",
    "        has_header = bool(\"SMILES\" in first_line)\n",
    "smi_file.close()"
   ]
  },
  {
   "cell_type": "code",
   "execution_count": 21,
   "metadata": {},
   "outputs": [],
   "source": [
    "from rdkit import Chem\n",
    "m = Chem.MolFromSmiles('Cc1ccccc1')"
   ]
  },
  {
   "cell_type": "code",
   "execution_count": 26,
   "metadata": {},
   "outputs": [
    {
     "data": {
      "text/plain": [
       "'E:\\\\graph gnn\\\\GraphINVENT\\\\data\\\\pre-training\\\\gdb13_1K\\train.h5'"
      ]
     },
     "execution_count": 26,
     "metadata": {},
     "output_type": "execute_result"
    }
   ],
   "source": [
    "smi_file"
   ]
  },
  {
   "cell_type": "code",
   "execution_count": 46,
   "metadata": {},
   "outputs": [
    {
     "name": "stdout",
     "output_type": "stream",
     "text": [
      "E:\\graph gnn\\GraphINVENT\\data\\pre-training\\gdb13_1K\\Train.h5\n"
     ]
    }
   ],
   "source": [
    "path = f\"E:\\graph gnn\\GraphINVENT\\data\\pre-training\\gdb13_1K\\Train.h5\"\n",
    "\n",
    "print(path)\n",
    "smi_file=open(path)\n",
    "first_line = smi_file.readline()\n",
    "has_header = bool(\"SMILES\" in first_line)"
   ]
  },
  {
   "cell_type": "code",
   "execution_count": 110,
   "metadata": {},
   "outputs": [],
   "source": [
    "molecule_set = SmilesMolSupplier(path,\n",
    "                                     sanitize=True,\n",
    "                                     nameColumn=-1,\n",
    "                                     titleLine=has_header)"
   ]
  },
  {
   "cell_type": "code",
   "execution_count": 111,
   "metadata": {},
   "outputs": [
    {
     "data": {
      "text/plain": [
       "<rdkit.Chem.rdmolfiles.SmilesMolSupplier at 0x18e2deded60>"
      ]
     },
     "execution_count": 111,
     "metadata": {},
     "output_type": "execute_result"
    }
   ],
   "source": [
    "molecule_set"
   ]
  },
  {
   "cell_type": "code",
   "execution_count": 112,
   "metadata": {},
   "outputs": [
    {
     "ename": "ArgumentError",
     "evalue": "Python argument types in\n    rdkit.Chem.rdmolops.Kekulize(SmilesMolSupplier)\ndid not match C++ signature:\n    Kekulize(class RDKit::ROMol {lvalue} mol, bool clearAromaticFlags=False)",
     "output_type": "error",
     "traceback": [
      "\u001b[1;31m---------------------------------------------------------------------------\u001b[0m",
      "\u001b[1;31mArgumentError\u001b[0m                             Traceback (most recent call last)",
      "\u001b[1;32m~\\AppData\\Local\\Temp/ipykernel_24032/3783198973.py\u001b[0m in \u001b[0;36m<module>\u001b[1;34m\u001b[0m\n\u001b[0;32m      1\u001b[0m \u001b[0mn_molecules\u001b[0m \u001b[1;33m=\u001b[0m \u001b[0mlen\u001b[0m\u001b[1;33m(\u001b[0m\u001b[0mmolecule_set\u001b[0m\u001b[1;33m)\u001b[0m\u001b[1;33m\u001b[0m\u001b[1;33m\u001b[0m\u001b[0m\n\u001b[0;32m      2\u001b[0m \u001b[1;33m\u001b[0m\u001b[0m\n\u001b[1;32m----> 3\u001b[1;33m \u001b[0mrdkit\u001b[0m\u001b[1;33m.\u001b[0m\u001b[0mChem\u001b[0m\u001b[1;33m.\u001b[0m\u001b[0mKekulize\u001b[0m\u001b[1;33m(\u001b[0m\u001b[0mmolecule_set\u001b[0m\u001b[1;33m)\u001b[0m\u001b[1;33m\u001b[0m\u001b[1;33m\u001b[0m\u001b[0m\n\u001b[0m",
      "\u001b[1;31mArgumentError\u001b[0m: Python argument types in\n    rdkit.Chem.rdmolops.Kekulize(SmilesMolSupplier)\ndid not match C++ signature:\n    Kekulize(class RDKit::ROMol {lvalue} mol, bool clearAromaticFlags=False)"
     ]
    }
   ],
   "source": [
    "n_molecules = len(molecule_set)\n",
    "\n",
    "rdkit.Chem.Kekulize(molecule_set)"
   ]
  },
  {
   "cell_type": "code",
   "execution_count": null,
   "metadata": {},
   "outputs": [],
   "source": [
    "n_subgraphs = 0\n",
    "moleculer_graph_generator = map(get_graph,molecule_set)"
   ]
  },
  {
   "cell_type": "code",
   "execution_count": 79,
   "metadata": {},
   "outputs": [
    {
     "data": {
      "text/plain": [
       "<rdkit.Chem.rdmolfiles.SmilesMolSupplier at 0x18e2c5b1720>"
      ]
     },
     "execution_count": 79,
     "metadata": {},
     "output_type": "execute_result"
    }
   ],
   "source": [
    "molecule_set"
   ]
  },
  {
   "cell_type": "code",
   "execution_count": 113,
   "metadata": {},
   "outputs": [],
   "source": [
    "global kash \n",
    "def ash(mol):\n",
    "    rdkit.Chem.Kekulize(mol, clearAromaticFlags=True)\n",
    "    molecule = rdkit.Chem.AddHs(mol)\n",
    "    molecule =  rdkit.Chem.AddHs(mol)\n",
    "    n_nodes = molecule.GetNumAtoms()\n",
    "    mol_to_graph(molecule)\n",
    "    kash = n_nodes\n",
    "    print(n_nodes)\n",
    "\n",
    "l2k = map(ash,molecule_set)\n",
    "\n"
   ]
  },
  {
   "cell_type": "code",
   "execution_count": 115,
   "metadata": {},
   "outputs": [
    {
     "name": "stdout",
     "output_type": "stream",
     "text": [
      "<map object at 0x0000018E2DE98AC0>\n"
     ]
    }
   ],
   "source": [
    "print(l2k)"
   ]
  },
  {
   "cell_type": "code",
   "execution_count": 101,
   "metadata": {},
   "outputs": [],
   "source": [
    "atom_types = \"N O S Cl\".split(\" \")\n",
    "import numpy as np\n",
    "formal_charge = [0,1,-1]\n",
    "def mol_to_graph(molecule):\n",
    "    n_atoms = params['n_nodes']\n",
    "    atoms   = map(molecule.GetAtomWithIdx, range(4))\n",
    "    node_features = np.array(list(map(atom_features, atoms)),\n",
    "                                 dtype=np.int32)\n",
    "    "
   ]
  },
  {
   "cell_type": "code",
   "execution_count": 104,
   "metadata": {},
   "outputs": [],
   "source": [
    "import itertools\n",
    "def atom_features(atom):\n",
    "    feature_vector_generator = itertools.chain(\n",
    "            one_of_k_encoding(atom.GetSymbol(), atom_types),\n",
    "            one_of_k_encoding(atom.GetFormalCharge(),\n",
    "                                   formal_charge))\n",
    "        \n",
    "    feature_vector = np.fromiter(feature_vector_generator, int)\n",
    "\n",
    "def one_of_k_encoding(x,allowable_set):\n",
    "    one_hot_generator = (int(x == s) for s in allowable_set)\n",
    "    return one_hot_generator"
   ]
  },
  {
   "cell_type": "code",
   "execution_count": 77,
   "metadata": {},
   "outputs": [
    {
     "ename": "ArgumentError",
     "evalue": "Python argument types in\n    rdkit.Chem.rdmolops.Kekulize(SmilesMolSupplier)\ndid not match C++ signature:\n    Kekulize(class RDKit::ROMol {lvalue} mol, bool clearAromaticFlags=False)",
     "output_type": "error",
     "traceback": [
      "\u001b[1;31m---------------------------------------------------------------------------\u001b[0m",
      "\u001b[1;31mArgumentError\u001b[0m                             Traceback (most recent call last)",
      "\u001b[1;32m~\\AppData\\Local\\Temp/ipykernel_24032/3332093272.py\u001b[0m in \u001b[0;36m<module>\u001b[1;34m\u001b[0m\n\u001b[1;32m----> 1\u001b[1;33m \u001b[0mrdkit\u001b[0m\u001b[1;33m.\u001b[0m\u001b[0mChem\u001b[0m\u001b[1;33m.\u001b[0m\u001b[0mKekulize\u001b[0m\u001b[1;33m(\u001b[0m\u001b[0mmolecule_set\u001b[0m\u001b[1;33m,\u001b[0m \u001b[0mclearAromaticFlags\u001b[0m\u001b[1;33m=\u001b[0m\u001b[1;32mTrue\u001b[0m\u001b[1;33m)\u001b[0m\u001b[1;33m\u001b[0m\u001b[1;33m\u001b[0m\u001b[0m\n\u001b[0m",
      "\u001b[1;31mArgumentError\u001b[0m: Python argument types in\n    rdkit.Chem.rdmolops.Kekulize(SmilesMolSupplier)\ndid not match C++ signature:\n    Kekulize(class RDKit::ROMol {lvalue} mol, bool clearAromaticFlags=False)"
     ]
    }
   ],
   "source": [
    "molecular_graph = PreprocessingGraph(molecule=mol,\n",
    "                                                 constants=constants)"
   ]
  },
  {
   "cell_type": "code",
   "execution_count": 76,
   "metadata": {},
   "outputs": [],
   "source": [
    "!cd graphinvent\n",
    "from graphinvent.MolecularGraph import PreprocessingGraph\n"
   ]
  },
  {
   "cell_type": "code",
   "execution_count": null,
   "metadata": {},
   "outputs": [],
   "source": [
    "def get_graph(self, mol : rdkit.Chem.Mol) -> PreprocessingGraph:\n",
    "        \n",
    "        if mol is not None:\n",
    "            if False:\n",
    "                rdkit.Chem.Kekulize(mol, clearAromaticFlags=True)\n",
    "            molecular_graph = PreprocessingGraph(molecule=mol,\n",
    "                                                 constants=constants)\n",
    "        return molecular_graph"
   ]
  },
  {
   "cell_type": "code",
   "execution_count": null,
   "metadata": {},
   "outputs": [],
   "source": []
  },
  {
   "cell_type": "code",
   "execution_count": null,
   "metadata": {},
   "outputs": [],
   "source": []
  },
  {
   "cell_type": "code",
   "execution_count": 13,
   "metadata": {},
   "outputs": [
    {
     "ename": "OSError",
     "evalue": "File error: Bad input file E:\\graph gnn\\GraphINVENT\\data\\pre-training\\gdb13_1K\train.smi",
     "output_type": "error",
     "traceback": [
      "\u001b[1;31m---------------------------------------------------------------------------\u001b[0m",
      "\u001b[1;31mOSError\u001b[0m                                   Traceback (most recent call last)",
      "\u001b[1;32m~\\AppData\\Local\\Temp/ipykernel_24032/2801166128.py\u001b[0m in \u001b[0;36m<module>\u001b[1;34m\u001b[0m\n\u001b[0;32m      1\u001b[0m \u001b[0mpath1\u001b[0m\u001b[1;33m=\u001b[0m\u001b[1;34m'E:\\graph gnn\\GraphINVENT\\data\\pre-training\\gdb13_1K\\train.smi'\u001b[0m\u001b[1;33m\u001b[0m\u001b[1;33m\u001b[0m\u001b[0m\n\u001b[1;32m----> 2\u001b[1;33m molecule_set = SmilesMolSupplier(path1,\n\u001b[0m\u001b[0;32m      3\u001b[0m                                      \u001b[0msanitize\u001b[0m\u001b[1;33m=\u001b[0m\u001b[1;32mTrue\u001b[0m\u001b[1;33m,\u001b[0m\u001b[1;33m\u001b[0m\u001b[1;33m\u001b[0m\u001b[0m\n\u001b[0;32m      4\u001b[0m                                      \u001b[0mnameColumn\u001b[0m\u001b[1;33m=\u001b[0m\u001b[1;33m-\u001b[0m\u001b[1;36m1\u001b[0m\u001b[1;33m,\u001b[0m\u001b[1;33m\u001b[0m\u001b[1;33m\u001b[0m\u001b[0m\n\u001b[0;32m      5\u001b[0m                                      titleLine=False)\n",
      "\u001b[1;31mOSError\u001b[0m: File error: Bad input file E:\\graph gnn\\GraphINVENT\\data\\pre-training\\gdb13_1K\train.smi"
     ]
    }
   ],
   "source": [
    "path1='E:\\graph gnn\\GraphINVENT\\data\\pre-training\\gdb13_1K\\train.smi'\n",
    "molecule_set = SmilesMolSupplier(path1,\n",
    "                                     sanitize=True,\n",
    "                                     nameColumn=-1,\n",
    "                                     titleLine=False)"
   ]
  },
  {
   "cell_type": "code",
   "execution_count": null,
   "metadata": {},
   "outputs": [],
   "source": []
  }
 ],
 "metadata": {
  "interpreter": {
   "hash": "5a7aeb117152383494077b830ed8f2bcff9728640e9e954d18ee6388f442a456"
  },
  "kernelspec": {
   "display_name": "Python 3.9.9 64-bit (windows store)",
   "language": "python",
   "name": "python3"
  },
  "language_info": {
   "codemirror_mode": {
    "name": "ipython",
    "version": 3
   },
   "file_extension": ".py",
   "mimetype": "text/x-python",
   "name": "python",
   "nbconvert_exporter": "python",
   "pygments_lexer": "ipython3",
   "version": "3.9.9"
  },
  "orig_nbformat": 4
 },
 "nbformat": 4,
 "nbformat_minor": 2
}
